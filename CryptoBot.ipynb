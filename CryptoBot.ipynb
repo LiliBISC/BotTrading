{
 "cells": [
  {
   "cell_type": "code",
   "execution_count": 53,
   "metadata": {},
   "outputs": [],
   "source": [
    "import pandas as pd\n",
    "import matplotlib.pyplot as plt\n",
    "import ta\n",
    "import numpy as np\n",
    "from binance.client import Client"
   ]
  },
  {
   "cell_type": "code",
   "execution_count": 54,
   "metadata": {},
   "outputs": [],
   "source": [
    "data=Client().get_historical_klines(\"BTCUSDT\", Client.KLINE_INTERVAL_1HOUR, '01 December 2021')\n",
    "df=pd.DataFrame(data,columns=[\"timestamp\",\"open\",\"high\", \"low\", \"close\", \"volume\", \"close_time\", \"quote_av\", \"trades\", \"tb_base_av\", \"tb_quote_av\", \"ignore\"])\n",
    "\n",
    "df = df.set_index(df['timestamp'])\n",
    "df.index=pd.to_datetime(df.index, unit='ms')\n",
    "\n",
    "del df['close_time']\n",
    "del df['quote_av']\n",
    "del df['trades']\n",
    "del df['tb_base_av']\n",
    "del df['tb_quote_av']\n",
    "del df['ignore']\n",
    "\n",
    "df[\"open\"] = df[\"open\"].astype(float)\n",
    "df[\"high\"] = df[\"high\"].astype(float)\n",
    "df[\"low\"] = df[\"low\"].astype(float)\n",
    "df[\"close\"] = df[\"close\"].astype(float)\n",
    "df[\"volume\"] = df[\"volume\"].astype(float)"
   ]
  },
  {
   "cell_type": "code",
   "execution_count": 68,
   "metadata": {},
   "outputs": [],
   "source": [
    "def bdd(lbp, df, volume_anomaly) : \n",
    "\n",
    "    # -- Indicators, you can edit every value --\n",
    "    df['VOL_ANO'] = volume_anomality(df, volume_anomaly)\n",
    "    df['MIN20'] = df['close'].rolling(10).min()\n",
    "    df['WillR'] = ta.momentum.williams_r(high=df['high'], low=df['low'], close=df['close'], lbp=lbp)\n",
    "    df['CANDLE_DIFF'] = abs(df['open'] - df['close'])\n",
    "    df['MEAN_DIFF'] = df['CANDLE_DIFF'].rolling(20).mean()\n",
    "\n",
    "    dfTest=df[:]\n",
    "    previousRow = dfTest.iloc[0]\n",
    "\n",
    "    # -- Value initialisation --\n",
    "    startingBalance = 1000\n",
    "    usd = startingBalance\n",
    "    wallet = startingBalance\n",
    "    coin = 0\n",
    "    \n",
    "    # -- Iteration on all your price dataset (df) --\n",
    "    for index, row in dfTest.iterrows():\n",
    "        # -- Buy market order --\n",
    "        if buyCondition(row, previousRow) and usd > 0 :\n",
    "            # -- You can define here at what price you buy --\n",
    "            buyPrice = row['close']\n",
    "            coin = usd / buyPrice\n",
    "            usd = 0\n",
    "            wallet = coin * row['close']\n",
    "\n",
    "        # -- Sell Market Order --\n",
    "        elif sellCondition(row, 12):\n",
    "            if coin > 0:\n",
    "                # -- You can define here at what price you buy --\n",
    "                sellPrice = row['close']\n",
    "                usd = coin * sellPrice\n",
    "                coin = 0\n",
    "                wallet = usd\n",
    "            \n",
    "        previousRow = row\n",
    "    return wallet\n",
    "\n",
    "def create_data():\n",
    "    wallet=pd.DataFrame()\n",
    "    for i in range(40,60):\n",
    "        for k in range(1,20):\n",
    "            wallet=wallet.append({'lpb' : int(i), 'volume_anomaly':int(k), 'wallet' :bdd(i,df,k) } , ignore_index=True)\n",
    "\n",
    "    wallet.to_csv (r'C:\\Users\\lilia\\OneDrive\\Documents\\Lilian\\ING4_S2\\IA\\Projet3\\regression.csv', index = False, header=True)\n",
    "\n",
    "    return wallet\n"
   ]
  },
  {
   "cell_type": "code",
   "execution_count": 69,
   "metadata": {},
   "outputs": [],
   "source": [
    "import seaborn as sns\n",
    "from sklearn.model_selection import train_test_split\n",
    "from sklearn.linear_model import LinearRegression\n",
    "\n",
    "def learn_regression(data):\n",
    "    x = data[[\"lpb\",\"volume_anomaly\"]]\n",
    "    y = data[\"wallet\"]\n",
    "\n",
    "    x_train, x_test, y_train, y_test = train_test_split(x, y, test_size = 0.2, random_state = 100)\n",
    "\n",
    "    #Fitting the Multiple Linear Regression model\n",
    "    mlr = LinearRegression()  \n",
    "    mlr.fit(x_train, y_train)\n",
    "\n",
    "    y_pred_mlr=mlr.predict(x_test)\n",
    "\n",
    "    #Actual value and the predicted value\n",
    "    mlr_diff = pd.DataFrame({'Actual value': y_test, 'Predicted value': y_pred_mlr})\n",
    "\n",
    "\n",
    "    return mlr\n",
    "\n",
    "def prediction(mlr):\n",
    "    wallet=pd.DataFrame()\n",
    "    for i in range(40,60):\n",
    "        for k in range(1,20):\n",
    "            x=pd.DataFrame([[i,k]],columns=[\"lpb\",\"volume_anomaly\"])\n",
    "            wallet=wallet.append({'lpb' : int(i),\"volume_anomaly\" : int(k), 'wallet' :mlr.predict(x) } , ignore_index=True)\n",
    "    \n",
    "    wallet[\"wallet\"] = wallet[\"wallet\"].astype(float)\n",
    "    best_lpb = wallet['lpb'][wallet[\"wallet\"].idxmax()]\n",
    "    #best_x = wallet['x'][wallet[\"wallet\"].idxmax()]\n",
    "    best_volume = wallet['volume_anomaly'][wallet[\"wallet\"].idxmax()]\n",
    "\n",
    "    return best_lpb,best_volume\n",
    "\n",
    "def opti_regression(new_line, data):\n",
    "    data=pd.concat([data,new_line], ignore_index=True)\n",
    "    mlr=learn_regression(data)\n",
    "    best_lpb, best_volume=prediction(mlr)\n",
    "    \n",
    "    return best_lpb, best_volume\n",
    "\n",
    "\n"
   ]
  },
  {
   "cell_type": "code",
   "execution_count": 57,
   "metadata": {},
   "outputs": [],
   "source": [
    "# -- Buying strategy on volume anomaliy --\n",
    "def volume_anomality(df, volume_window):\n",
    "        dfInd = df.copy()\n",
    "        dfInd[\"VolAnomaly\"] = 0\n",
    "        dfInd[\"PreviousClose\"] = dfInd[\"close\"].shift(1)\n",
    "        dfInd['MeanVolume'] = dfInd['volume'].rolling(volume_window).mean()\n",
    "        dfInd['MaxVolume'] = dfInd['volume'].rolling(volume_window).max()\n",
    "        dfInd.loc[dfInd['volume'] > 1.5 * dfInd['MeanVolume'], \"VolAnomaly\"] = 1\n",
    "        dfInd.loc[dfInd['volume'] > 2 * dfInd['MeanVolume'], \"VolAnomaly\"] = 2\n",
    "        dfInd.loc[dfInd['volume'] >= dfInd['MaxVolume'], \"VolAnomaly\"] = 3\n",
    "        dfInd.loc[dfInd['PreviousClose'] > dfInd['close'],\n",
    "                \"VolAnomaly\"] = (-1) * dfInd[\"VolAnomaly\"]\n",
    "        return dfInd[\"VolAnomaly\"]\n",
    "\n",
    "# -- Condition to BUY market --\n",
    "def buyCondition(row, previousRow):\n",
    "    if (\n",
    "        row['VOL_ANO'] > 0\n",
    "        and previousRow['VOL_ANO'] < 0\n",
    "        and previousRow['close'] <= previousRow['MIN20']\n",
    "        and previousRow['CANDLE_DIFF'] > row['CANDLE_DIFF']\n",
    "        and (previousRow['open'] - previousRow['close']) > 0.0025 * row['close']\n",
    "    ):\n",
    "        return True\n",
    "    else:\n",
    "        return False\n",
    "\n",
    "# -- Condition to SELL market --\n",
    "def sellCondition(row, x):\n",
    "    if (\n",
    "        row['WillR'] > -x\n",
    "    ):\n",
    "        return True\n",
    "    else:\n",
    "        return False"
   ]
  },
  {
   "cell_type": "code",
   "execution_count": 58,
   "metadata": {},
   "outputs": [],
   "source": [
    "def BackTesting(df):\n",
    "\n",
    "    dataframe=pd.read_csv(r'C:\\Users\\lilia\\OneDrive\\Documents\\Lilian\\ING4_S2\\IA\\Projet3\\regression.csv')\n",
    "    \n",
    "    # -- Value initialisation --\n",
    "    startingBalance = 1000\n",
    "    #makerFee = 0.0002\n",
    "    #takerFee = 0.0007\n",
    "    takerFee = 0\n",
    "    usd = startingBalance\n",
    "    wallet = startingBalance\n",
    "    coin = 0\n",
    "\n",
    "    lbp =40\n",
    "    x =5\n",
    "    rolling_min = 20 \n",
    "    rolling_mean =10\n",
    "    volume_anomaly=10\n",
    "\n",
    "    # -- Indicators, you can edit every value --\n",
    "    df['VOL_ANO'] = volume_anomality(df, volume_anomaly)\n",
    "    df['MIN20'] = df['close'].rolling(rolling_min).min()\n",
    "    df['WillR'] = ta.momentum.williams_r(high=df['high'], low=df['low'], close=df['close'], lbp=lbp)\n",
    "    df['CANDLE_DIFF'] = abs(df['open'] - df['close'])\n",
    "    df['MEAN_DIFF'] = df['CANDLE_DIFF'].rolling(rolling_mean).mean()\n",
    "\n",
    "    dfTest=df[:]\n",
    "    previousRow = dfTest.iloc[0]\n",
    "\n",
    "    Buy=pd.DataFrame(columns=['timestamp','close'])\n",
    "    Sell=pd.DataFrame(columns=['timestamp','close'])\n",
    "\n",
    "    # -- Definition of dfTrades, that will be the dataset to do your trades analyses --\n",
    "    dfTrades = pd.DataFrame(columns=['date', 'position', 'reason','price', 'frais', 'fiat', 'coins', 'wallet', 'timeSince'])\n",
    "\n",
    "    # -- Iteration on all your price dataset (df) --\n",
    "    for index, row in dfTest.iterrows():\n",
    "        # -- Buy market order --\n",
    "        if buyCondition(row, previousRow) and usd > 0 :\n",
    "            # -- You can define here at what price you buy --\n",
    "            buyPrice = row['close']\n",
    "            fee = takerFee * usd\n",
    "            usd = usd - fee\n",
    "            coin = usd / buyPrice\n",
    "            usd = 0\n",
    "            wallet = coin * row['close']\n",
    "\n",
    "            print(\"Buy COIN at\", buyPrice, '$ the', index)\n",
    "            Buy=Buy.append({'timestamp' : row['timestamp'] , 'close' : row['close']} , ignore_index=True)\n",
    "\n",
    "            # -- Add the trade to dfTrades to analyse it later --\n",
    "            myrow = {\n",
    "                'date': index,\n",
    "                'position': \"Buy\",\n",
    "                'reason': 'Buy Market Order',\n",
    "                'price': buyPrice,\n",
    "                'frais': fee,\n",
    "                'fiat': usd,\n",
    "                'coins': coin,\n",
    "                'wallet': wallet\n",
    "            }\n",
    "            dfTrades = dfTrades.append(myrow, ignore_index=True)\n",
    "\n",
    "        # -- Sell Market Order --\n",
    "        elif sellCondition(row, x):\n",
    "            if coin > 0:\n",
    "                # -- You can define here at what price you buy --\n",
    "                sellPrice = row['close']\n",
    "                usd = coin * sellPrice\n",
    "                fee = takerFee * usd\n",
    "                usd = usd - fee\n",
    "                coin = 0\n",
    "                wallet = usd\n",
    "\n",
    "                Sell=Sell.append({'timestamp' : row['timestamp'] , 'close' : row['close']} , ignore_index=True)\n",
    "\n",
    "                print(\"Sell COIN at\", sellPrice, '$ the', index)\n",
    "\n",
    "                # -- Add the trade to DfTrades to analyse it later --\n",
    "                myrow = {\n",
    "                    'date': index,\n",
    "                    'position': \"Sell\",\n",
    "                    'reason': 'Sell Market Order',\n",
    "                    'price': sellPrice,\n",
    "                    'frais': fee,\n",
    "                    'fiat': usd,\n",
    "                    'coins': coin,\n",
    "                    'wallet': wallet\n",
    "                }\n",
    "                dfTrades = dfTrades.append(myrow, ignore_index=True)\n",
    "\n",
    "                new_line=pd.DataFrame([[lbp,volume_anomaly,wallet]],columns=[\"lpb\",'volume_anomaly', \"wallet\"])\n",
    "                lbp, volume_anomaly=opti_regression(new_line, dataframe)\n",
    "                df['WillR'] = ta.momentum.williams_r(high=df['high'], low=df['low'], close=df['close'], lbp=int(lbp))\n",
    "        previousRow = row\n",
    "\n",
    "    return wallet,dfTrades,Buy,Sell\n",
    "\n"
   ]
  },
  {
   "cell_type": "code",
   "execution_count": 70,
   "metadata": {},
   "outputs": [
    {
     "name": "stdout",
     "output_type": "stream",
     "text": [
      "Buy COIN at 48479.81 $ the 2021-12-05 16:00:00\n",
      "Sell COIN at 50739.91 $ the 2021-12-06 22:00:00\n",
      "Buy COIN at 46528.83 $ the 2021-12-17 15:00:00\n",
      "Sell COIN at 48866.92 $ the 2021-12-21 11:00:00\n",
      "Buy COIN at 46693.1 $ the 2021-12-30 00:00:00\n",
      "Sell COIN at 48433.9 $ the 2021-12-31 08:00:00\n",
      "Buy COIN at 40831.07 $ the 2022-01-08 19:00:00\n",
      "Sell COIN at 42695.26 $ the 2022-01-09 19:00:00\n",
      "Buy COIN at 40786.57 $ the 2022-01-10 14:00:00\n",
      "Sell COIN at 42972.05 $ the 2022-01-11 19:00:00\n",
      "Buy COIN at 42174.65 $ the 2022-01-17 18:00:00\n",
      "Sell COIN at 42969.66 $ the 2022-01-20 14:00:00\n",
      "Buy COIN at 35488.54 $ the 2022-01-22 10:00:00\n",
      "Sell COIN at 37320.08 $ the 2022-01-25 18:00:00\n",
      "Buy COIN at 41519.49 $ the 2022-02-06 15:00:00\n",
      "Sell COIN at 43411.15 $ the 2022-02-07 14:00:00\n",
      "Buy COIN at 44356.08 $ the 2022-02-10 14:00:00\n",
      "Sell COIN at 43691.57 $ the 2022-02-15 07:00:00\n",
      "Buy COIN at 40441.43 $ the 2022-02-18 12:00:00\n",
      "Sell COIN at 38876.9 $ the 2022-02-23 09:00:00\n",
      "Buy COIN at 35077.91 $ the 2022-02-24 04:00:00\n",
      "Sell COIN at 39826.36 $ the 2022-02-28 14:00:00\n",
      "Buy COIN at 37777.34 $ the 2022-03-13 23:00:00\n",
      "Sell COIN at 41661.86 $ the 2022-03-18 17:00:00\n"
     ]
    },
    {
     "data": {
      "text/plain": [
       "1668.4150055562322"
      ]
     },
     "execution_count": 70,
     "metadata": {},
     "output_type": "execute_result"
    }
   ],
   "source": [
    "wallet,dfTrades,Buy,Sell=BackTesting(df)\n",
    "wallet"
   ]
  },
  {
   "cell_type": "code",
   "execution_count": 72,
   "metadata": {},
   "outputs": [],
   "source": [
    "\n",
    "Buy[\"timestamp\"]=pd.to_datetime(Buy[\"timestamp\"], unit='ms')\n",
    "Sell[\"timestamp\"]=pd.to_datetime(Sell[\"timestamp\"], unit='ms')"
   ]
  },
  {
   "cell_type": "code",
   "execution_count": 73,
   "metadata": {},
   "outputs": [
    {
     "data": {
      "text/plain": [
       "<matplotlib.collections.PathCollection at 0x2053c3b9610>"
      ]
     },
     "execution_count": 73,
     "metadata": {},
     "output_type": "execute_result"
    },
    {
     "data": {
      "image/png": "[encoded data removed]",
      "text/plain": [
       "<Figure size 432x288 with 1 Axes>"
      ]
     },
     "metadata": {
      "needs_background": "light"
     },
     "output_type": "display_data"
    },
    {
     "data": {
      "image/png": "[encoded data removed]",
      "text/plain": [
       "<Figure size 432x288 with 1 Axes>"
      ]
     },
     "metadata": {
      "needs_background": "light"
     },
     "output_type": "display_data"
    }
   ],
   "source": [
    "plt.figure()\n",
    "plt.title('Wallet')\n",
    "plt.plot(dfTrades[\"wallet\"])\n",
    "plt.figure()\n",
    "plt.title('BTC-USD Trading Strategy')\n",
    "plt.plot(df[\"close\"], color='b', lw=2.)\n",
    "plt.scatter(Buy[\"timestamp\"],Buy['close'],marker = '^', color='g', s=100 )\n",
    "plt.scatter(Sell[\"timestamp\"],Sell['close'],marker = 'v', color='r', s=100)"
   ]
  }
 ],
 "metadata": {
  "interpreter": {
   "hash": "1bd6b260cdbb265abe33e104503bc8a4d297611cfefe367cd6e7504e555fa48c"
  },
  "kernelspec": {
   "display_name": "Python 3",
   "language": "python",
   "name": "python3"
  },
  "language_info": {
   "codemirror_mode": {
    "name": "ipython",
    "version": 3
   },
   "file_extension": ".py",
   "mimetype": "text/x-python",
   "name": "python",
   "nbconvert_exporter": "python",
   "pygments_lexer": "ipython3",
   "version": "3.8.8"
  }
 },
 "nbformat": 4,
 "nbformat_minor": 2
}
